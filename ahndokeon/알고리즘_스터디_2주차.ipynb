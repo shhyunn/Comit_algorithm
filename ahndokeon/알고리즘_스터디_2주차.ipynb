{
  "nbformat": 4,
  "nbformat_minor": 0,
  "metadata": {
    "colab": {
      "provenance": []
    },
    "kernelspec": {
      "name": "python3",
      "display_name": "Python 3"
    },
    "language_info": {
      "name": "python"
    }
  },
  "cells": [
    {
      "cell_type": "markdown",
      "source": [
        "### 알고리즘 스터디 2주차"
      ],
      "metadata": {
        "id": "gakljs4rOAP8"
      }
    },
    {
      "cell_type": "markdown",
      "source": [
        "`문제`\n",
        "\n",
        "\n",
        "평소 반상회에 참석하는 것을 좋아하는 주희는 이번 기회에 부녀회장이 되고 싶어 각 층의 사람들을 불러 모아 반상회를 주최하려고 한다.\n",
        "\n",
        "이 아파트에 거주를 하려면 조건이 있는데, “a층의 b호에 살려면 자신의 아래(a-1)층의 1호부터 b호까지 사람들의 수의 합만큼 사람들을 데려와 살아야 한다” 는 계약 조항을 꼭 지키고 들어와야 한다.\n",
        "\n",
        "아파트에 비어있는 집은 없고 모든 거주민들이 이 계약 조건을 지키고 왔다고 가정했을 때, 주어지는 양의 정수 k와 n에 대해 k층에 n호에는 몇 명이 살고 있는지 출력하라.\n",
        "\n",
        "단, 아파트에는 0층부터 있고 각층에는 1호부터 있으며, 0층의 i호에는 i명이 산다.\n",
        "\n",
        "`입력`\n",
        "\n",
        "첫 번째 줄에 Test case의 수 T가 주어진다. 그리고 각각의 케이스마다 입력으로 첫 번째 줄에 정수 k, 두 번째 줄에 정수 n이 주어진다\n",
        "\n",
        "`출력`\n",
        "\n",
        "각각의 Test case에 대해서 해당 집에 거주민 수를 출력하라.\n",
        "\n",
        "`제한`\n",
        "\n",
        "1 ≤ k, n ≤ 14"
      ],
      "metadata": {
        "id": "NeDTi8Y6OGH7"
      }
    },
    {
      "cell_type": "code",
      "source": [
        "t = int(input())\n",
        "\n",
        "for _ in range(t):  # 입력받은(t) 테스트 케이스 수만큼 for문을 반복\n",
        "    floor = int(input())  # 층\n",
        "    num = int(input())  # 호\n",
        "    f0 = [x for x in range(1, num+1)]  # 0층 리스트\n",
        "\n",
        "    for i in range(floor):  # 층 수 만큼 반복\n",
        "        for j in range(1, num):  # 1 ~ n-1까지 (인덱스로 사용)\n",
        "            f0[j] += f0[j-1]  # 층별 각 호실의 사람 수를 변경\n",
        "    print(f0[-1])  # 가장 마지막 수 출력"
      ],
      "metadata": {
        "id": "Hxtr81GpR2-E",
        "colab": {
          "base_uri": "https://localhost:8080/"
        },
        "outputId": "8db42428-6640-4433-926b-3d0013004ab1"
      },
      "execution_count": null,
      "outputs": [
        {
          "output_type": "stream",
          "name": "stdout",
          "text": [
            "2\n",
            "1\n",
            "3\n",
            "6\n",
            "1\n",
            "3\n",
            "6\n"
          ]
        }
      ]
    },
    {
      "cell_type": "markdown",
      "source": [
        "`t=2`  로 두번 돌림\n",
        "\n",
        "`floor=1 num=3` 1층 1호(1) 2호(3) 3호(6)"
      ],
      "metadata": {
        "id": "5j62PFbszEh8"
      }
    },
    {
      "cell_type": "markdown",
      "source": [
        "### `브1_11653`  소인수분해"
      ],
      "metadata": {
        "id": "Z4oj6q8U5sNB"
      }
    },
    {
      "cell_type": "markdown",
      "source": [
        "`문제`\n",
        "\n",
        "정수 N이 주어졌을 때, 소인수분해하는 프로그램을 작성하시오.\n",
        "\n",
        "`입력`\n",
        "\n",
        "첫째 줄에 정수 N (1 ≤ N ≤ 10,000,000)이 주어진다.\n",
        "\n",
        "`출력`\n",
        "\n",
        "N의 소인수분해 결과를 한 줄에 하나씩 오름차순으로 출력한다. N이 1인 경우 아무것도 출력하지 않는다."
      ],
      "metadata": {
        "id": "tlYT0JtK5c47"
      }
    },
    {
      "cell_type": "code",
      "source": [
        "aaa = int(input())\n",
        "bbb = 2\n",
        "while aaa!=1:\n",
        "  if aaa%bbb==0:\n",
        "    print(bbb)\n",
        "    aaa = aaa//bbb\n",
        "  else:\n",
        "    bbb += 1"
      ],
      "metadata": {
        "id": "l-Fx6cQm56LB",
        "colab": {
          "base_uri": "https://localhost:8080/"
        },
        "outputId": "41f0adf9-65ec-48f9-b042-b8048e3b20f6"
      },
      "execution_count": null,
      "outputs": [
        {
          "output_type": "stream",
          "name": "stdout",
          "text": [
            "10\n",
            "2\n",
            "5\n"
          ]
        }
      ]
    },
    {
      "cell_type": "markdown",
      "source": [
        "### `브1_10989` 수 정렬하기 3"
      ],
      "metadata": {
        "id": "3rROxApEwokL"
      }
    },
    {
      "cell_type": "markdown",
      "source": [
        "`문제`\n",
        "\n",
        "N개의 수가 주어졌을 때, 이를 오름차순으로 정렬하는 프로그램을 작성하시오.\n",
        "\n",
        "`입력`\n",
        "\n",
        "첫째 줄에 수의 개수 N(1 ≤ N ≤ 10,000,000)이 주어진다. 둘째 줄부터 N개의 줄에는 수가 주어진다. 이 수는 10,000보다 작거나 같은 자연수이다.\n",
        "\n",
        "`출력`\n",
        "\n",
        "첫째 줄부터 N개의 줄에 오름차순으로 정렬한 결과를 한 줄에 하나씩 출력한다."
      ],
      "metadata": {
        "id": "yrVBJjjuyhs_"
      }
    },
    {
      "cell_type": "code",
      "source": [
        "N_input = int(input())\n",
        "for i in range(N_input):\n",
        " N=int(input())\n"
      ],
      "metadata": {
        "colab": {
          "base_uri": "https://localhost:8080/",
          "height": 228
        },
        "id": "89s6L5ZOysSq",
        "outputId": "6423cdfb-fc86-4e09-a411-3c2e7240dfe2"
      },
      "execution_count": null,
      "outputs": [
        {
          "name": "stdout",
          "output_type": "stream",
          "text": [
            "ㅓ\n"
          ]
        },
        {
          "output_type": "error",
          "ename": "ValueError",
          "evalue": "ignored",
          "traceback": [
            "\u001b[0;31m---------------------------------------------------------------------------\u001b[0m",
            "\u001b[0;31mValueError\u001b[0m                                Traceback (most recent call last)",
            "\u001b[0;32m<ipython-input-10-e4a1f230e66c>\u001b[0m in \u001b[0;36m<cell line: 1>\u001b[0;34m()\u001b[0m\n\u001b[0;32m----> 1\u001b[0;31m \u001b[0mN_input\u001b[0m \u001b[0;34m=\u001b[0m \u001b[0mint\u001b[0m\u001b[0;34m(\u001b[0m\u001b[0minput\u001b[0m\u001b[0;34m(\u001b[0m\u001b[0;34m)\u001b[0m\u001b[0;34m)\u001b[0m\u001b[0;34m\u001b[0m\u001b[0;34m\u001b[0m\u001b[0m\n\u001b[0m\u001b[1;32m      2\u001b[0m \u001b[0;32mfor\u001b[0m \u001b[0mi\u001b[0m \u001b[0;32min\u001b[0m \u001b[0mrange\u001b[0m\u001b[0;34m(\u001b[0m\u001b[0mN_input\u001b[0m\u001b[0;34m)\u001b[0m\u001b[0;34m:\u001b[0m\u001b[0;34m\u001b[0m\u001b[0;34m\u001b[0m\u001b[0m\n\u001b[1;32m      3\u001b[0m  \u001b[0mN\u001b[0m\u001b[0;34m=\u001b[0m\u001b[0mint\u001b[0m\u001b[0;34m(\u001b[0m\u001b[0minput\u001b[0m\u001b[0;34m(\u001b[0m\u001b[0;34m)\u001b[0m\u001b[0;34m)\u001b[0m\u001b[0;34m\u001b[0m\u001b[0;34m\u001b[0m\u001b[0m\n",
            "\u001b[0;31mValueError\u001b[0m: invalid literal for int() with base 10: 'ㅓ'"
          ]
        }
      ]
    },
    {
      "cell_type": "markdown",
      "source": [
        "### `2309_일곱난쟁이`"
      ],
      "metadata": {
        "id": "YHkh_-UrbKQX"
      }
    },
    {
      "cell_type": "markdown",
      "source": [
        "`문제`\n",
        "\n",
        "왕비를 피해 일곱 난쟁이들과 함께 평화롭게 생활하고 있던 백설공주에게 위기가 찾아왔다. 일과를 마치고 돌아온 난쟁이가 일곱 명이 아닌 아홉 명이었던 것이다.\n",
        "\n",
        "아홉 명의 난쟁이는 모두 자신이 \"백설 공주와 일곱 난쟁이\"의 주인공이라고 주장했다. 뛰어난 수학적 직관력을 가지고 있던 백설공주는, 다행스럽게도 일곱 난쟁이의 키의 합이 100이 됨을 기억해 냈다.\n",
        "\n",
        "아홉 난쟁이의 키가 주어졌을 때, 백설공주를 도와 일곱 난쟁이를 찾는 프로그램을 작성하시오.\n",
        "\n",
        "`입력`\n",
        "\n",
        "아홉 개의 줄에 걸쳐 난쟁이들의 키가 주어진다. 주어지는 키는 100을 넘지 않는 자연수이며, 아홉 난쟁이의 키는 모두 다르며, 가능한 정답이 여러 가지인 경우에는 아무거나 출력한다.\n",
        "\n",
        "`출력`\n",
        "\n",
        "일곱 난쟁이의 키를 오름차순으로 출력한다. 일곱 난쟁이를 찾을 수 없는 경우는 없다."
      ],
      "metadata": {
        "id": "71VOTxPszIS5"
      }
    },
    {
      "cell_type": "code",
      "source": [
        "aaaa = []\n",
        "for i in range(9):   # 난쟁이 9명\n",
        "    aaaa.append(int(input()))  # 9명 리스트 append\n",
        "\n",
        "aaaa.sort() #  aaaa  난쟁이 키 오름차순 정렬\n",
        "\n",
        "sum_aaaa = sum(aaaa)\n",
        "for i in range(len(aaaa)):\n",
        "    for j in range(i + 1, len(aaaa)):\n",
        "        if sum_aaaa - aaaa[i] - aaaa[j] == 100:\n",
        "            for k in range(len(aaaa)):\n",
        "                if k == i or k == j:\n",
        "                  print(\"ㅠㅠ\")\n",
        "                else:\n",
        "                    print(aaaa[k])\n",
        "            exit()"
      ],
      "metadata": {
        "colab": {
          "base_uri": "https://localhost:8080/"
        },
        "id": "JiMI0z47bJY-",
        "outputId": "e821c6a8-43c4-40c7-9b9c-0fc2521e5845"
      },
      "execution_count": 3,
      "outputs": [
        {
          "name": "stdout",
          "output_type": "stream",
          "text": [
            "29\n",
            "37\n",
            "1\n",
            "72\n",
            "38\n",
            "28\n",
            "37\n",
            "2\n",
            "1\n"
          ]
        }
      ]
    },
    {
      "cell_type": "code",
      "source": [],
      "metadata": {
        "id": "MdLJS0g6glNP"
      },
      "execution_count": null,
      "outputs": []
    },
    {
      "cell_type": "code",
      "source": [],
      "metadata": {
        "id": "2J_Y8IH9cNcB"
      },
      "execution_count": null,
      "outputs": []
    }
  ]
}