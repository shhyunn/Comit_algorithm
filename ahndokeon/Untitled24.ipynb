{
  "nbformat": 4,
  "nbformat_minor": 0,
  "metadata": {
    "colab": {
      "provenance": []
    },
    "kernelspec": {
      "name": "python3",
      "display_name": "Python 3"
    },
    "language_info": {
      "name": "python"
    }
  },
  "cells": [
    {
      "cell_type": "markdown",
      "source": [
        "### `1373`"
      ],
      "metadata": {
        "id": "hlWUDLKVeKZ3"
      }
    },
    {
      "cell_type": "code",
      "execution_count": 2,
      "metadata": {
        "colab": {
          "base_uri": "https://localhost:8080/"
        },
        "id": "L-Qj_vl4d8UI",
        "outputId": "b95dba2f-71f9-4a98-a684-5283a217cbdb"
      },
      "outputs": [
        {
          "output_type": "stream",
          "name": "stdout",
          "text": [
            "11001100\n",
            "314\n"
          ]
        }
      ],
      "source": [
        "print(oct(int(input(),2))[2:])"
      ]
    },
    {
      "cell_type": "markdown",
      "source": [
        "### `4796`"
      ],
      "metadata": {
        "id": "OMhsyJ34edyU"
      }
    },
    {
      "cell_type": "code",
      "source": [
        "V//P"
      ],
      "metadata": {
        "id": "KnMK8gTQelXw"
      },
      "execution_count": null,
      "outputs": []
    }
  ]
}