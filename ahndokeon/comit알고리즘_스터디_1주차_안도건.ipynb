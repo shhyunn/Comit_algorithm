{
  "nbformat": 4,
  "nbformat_minor": 0,
  "metadata": {
    "colab": {
      "provenance": []
    },
    "kernelspec": {
      "name": "python3",
      "display_name": "Python 3"
    },
    "language_info": {
      "name": "python"
    }
  },
  "cells": [
    {
      "cell_type": "markdown",
      "source": [
        "### `SKKU COMIT 알고리즘 초급`  스터디 1주차\n",
        "`2023310512 자연과학계열 안도건`"
      ],
      "metadata": {
        "id": "Pcp_LgPJ_IMa"
      }
    },
    {
      "cell_type": "markdown",
      "source": [
        "### `브1_1546` 평균"
      ],
      "metadata": {
        "id": "4-v__XajSR0K"
      }
    },
    {
      "cell_type": "markdown",
      "source": [
        "`문제`\n",
        "\n",
        "세준이는 기말고사를 망쳤다. 세준이는 점수를 조작해서 집에 가져가기로 했다. 일단 세준이는 자기 점수 중에 최댓값을 골랐다. 이 값을 M이라고 한다. 그리고 나서 모든 점수를 점수/M*100으로 고쳤다.\n",
        "\n",
        "예를 들어, 세준이의 최고점이 70이고, 수학점수가 50이었으면 수학점수는 50/70*100이 되어 71.43점이 된다.\n",
        "\n",
        "세준이의 성적을 위의 방법대로 새로 계산했을 때, 새로운 평균을 구하는 프로그램을 작성하시오.\n",
        "\n",
        "`입력`\n",
        "\n",
        "첫째 줄에 시험 본 과목의 개수 N이 주어진다. 이 값은 1000보다 작거나 같다. 둘째 줄에 세준이의 현재 성적이 주어진다. 이 값은 100보다 작거나 같은 음이 아닌 정수이고, 적어도 하나의 값은 0보다 크다.\n",
        "\n",
        "`출력`:\n",
        "\n",
        "첫째 줄에 새로운 평균을 출력한다. 실제 정답과 출력값의 절대오차 또는 상대오차가 10-2 이하이면 정답이다."
      ],
      "metadata": {
        "id": "hyAAKaHBSbzV"
      }
    },
    {
      "cell_type": "code",
      "source": [
        "\n",
        "number = int(input())\n",
        "scores = list(map(int, input().split()))\n",
        "M = max(scores)                                                                 #자기 점수 중에 최댓값을 골랐다. 이 값을 M이라고 한다\n",
        "new_scores = [(score / M) * 100 for score in scores]                            #그리고 나서 모든 점수를 점수/M*100으로 고쳤다.\n",
        "average = sum(new_scores)/number\n",
        "print(f'{average}')"
      ],
      "metadata": {
        "colab": {
          "base_uri": "https://localhost:8080/"
        },
        "id": "lxMyPootSmEt",
        "outputId": "7187e83e-c683-4ad2-cb05-d982de86024b"
      },
      "execution_count": 1,
      "outputs": [
        {
          "output_type": "stream",
          "name": "stdout",
          "text": [
            "3\n",
            "20 30 50\n",
            "66.66666666666667\n"
          ]
        }
      ]
    },
    {
      "cell_type": "markdown",
      "source": [
        "`list(map(int, input().split()))` : 입력을 받아서 공백을 기준으로 분리된 숫자들을 리스트로 변환하는 코드\n",
        "```\n",
        "list(map(int, input().split()))\n",
        "```\n",
        "\n",
        "1. `input()`: 이 함수는 사용자로부터 키보드로 입력을 받습니다. 사용자가 입력한 값은 문자열로 반환\n",
        "\n",
        "2. `.split()`: 문자열을 공백(빈 칸, 탭, 개행)을 기준으로 분리하여 리스트로 반환합니다. 예를 들어, 사용자가 \"40 80 60\"을 입력하면 이 함수는 `[\"40\", \"80\", \"60\"]`과 같은 리스트를 생성\n",
        "\n",
        "3. `map(int, ... )`: `map()` 함수는 리스트의 각 원소에 함수를 적용하는 데 사용됩니다. 여기서는 `int` 함수를 사용하여 문자열을 정수로 변환하고, `map()` 함수를 통해 각 문자열을 정수로 변환한 리스트를 생성합니다. 즉, `[\"40\", \"80\", \"60\"]`이 `map(int, ...)`를 거치면 `[40, 80, 60]`으로 변환\n",
        "\n",
        "4. `list(...)`: `map()` 함수의 결과를 다시 리스트로 변환합니다. 따라서 `[40, 80, 60]`은 최종적으로 `[40, 80, 60]` 리스트로 반환"
      ],
      "metadata": {
        "id": "V5Z5MeFS4KbT"
      }
    },
    {
      "cell_type": "markdown",
      "source": [
        "### `브1_1110` 더하기 사이클"
      ],
      "metadata": {
        "id": "8XeMPyUY9dLb"
      }
    },
    {
      "cell_type": "markdown",
      "source": [
        "`문제`\n",
        "\n",
        "0보다 크거나 같고, 99보다 작거나 같은 정수가 주어질 때 다음과 같은 연산을 할 수 있다.\n",
        "\n",
        "먼저 주어진 수가 10보다 작다면 앞에 0을 붙여 두 자리 수로 만들고, 각 자리의 숫자를 더한다.\n",
        "\n",
        "그 다음, 주어진 수의 가장 오른쪽 자리 수와 앞에서 구한 합의 가장 오른쪽 자리 수를 이어 붙이면 새로운 수를 만들 수 있다. 다음 예를 보자.\n",
        "\n",
        "26부터 시작한다. 2+6 = 8이다. 새로운 수는 68이다. (2`6` 0`8`)\n",
        "\n",
        "6+8 = 14이다. 새로운 수는 84이다. 8+4 = 12이다. 새로운 수는 42이다.   (1`4`  1`2`)\n",
        "\n",
        "4+2 = 6이다. 새로운 수는 26이다.   (4`2` 2`6`)이탤릭체 텍스트\n",
        "\n",
        "\n",
        "위의 예는 4번만에 원래 수로 돌아올 수 있다. 따라서 26의 사이클의 길이는 4이다.\n",
        "\n",
        "N이 주어졌을 때, N의 사이클의 길이를 구하는 프로그램을 작성하시오.\n",
        "\n",
        "`입력`\n",
        "\n",
        "첫째 줄에 N이 주어진다. N은 0보다 크거나 같고, 99보다 작거나 같은 정수이다.\n",
        "\n",
        "`출력`\n",
        "\n",
        "첫째 줄에 N의 사이클 길이를 출력한다."
      ],
      "metadata": {
        "id": "pQprVQRkxOKD"
      }
    },
    {
      "cell_type": "code",
      "source": [
        "N = int(input())\n",
        "N0 = N\n",
        "cycle = 0\n",
        "\n",
        "while True:\n",
        "    if N < 10:\n",
        "        N = N * 10 + N\n",
        "    else:\n",
        "        n = (N // 10) + (N % 10)\n",
        "        N = (N % 10) * 10 + (n % 10)\n",
        "    cycle += 1\n",
        "\n",
        "    if N == N0:\n",
        "        break\n",
        "\n",
        "print(cycle)"
      ],
      "metadata": {
        "colab": {
          "base_uri": "https://localhost:8080/"
        },
        "id": "9ez7TI8j5RpH",
        "outputId": "1ee7832c-e259-471b-dfde-617bb5cd76e7"
      },
      "execution_count": 11,
      "outputs": [
        {
          "output_type": "stream",
          "name": "stdout",
          "text": [
            "23\n",
            "60\n"
          ]
        }
      ]
    },
    {
      "cell_type": "markdown",
      "source": [
        "### `브1_4344` 평균은 넘겠지"
      ],
      "metadata": {
        "id": "NfuEuOFK-luX"
      }
    },
    {
      "cell_type": "markdown",
      "source": [
        "`문제`\n",
        "\n",
        "대학생 새내기들의 90%는 자신이 반에서 평균은 넘는다고 생각한다. 당신은 그들에게 슬픈 진실을 알려줘야 한다.\n",
        "\n",
        "`입력`\n",
        "\n",
        "첫째 줄에는 테스트 케이스의 개수 C가 주어진다.\n",
        "\n",
        "둘째 줄부터 각 테스트 케이스마다 학생의 수 N(1 ≤ N ≤ 1000, N은 정수)이 첫 수로 주어지고, 이어서 N명의 점수가 주어진다.\n",
        "\n",
        "점수는 0보다 크거나 같고, 100보다 작거나 같은 정수이다.\n",
        "\n",
        "`출력`\n",
        "\n",
        "각 케이스마다 한 줄씩 평균을 넘는 학생들의 비율을 반올림하여 소수점 셋째 자리까지 출력한다.\n",
        "\n",
        "정답과 출력값의 절대/상대 오차는 10^(-3)이하이면 정답이다."
      ],
      "metadata": {
        "id": "bRI7GVfa-qcS"
      }
    },
    {
      "cell_type": "code",
      "source": [
        "import statistics\n",
        "\n",
        "N_test_case = int(input())\n",
        "for i in range(N_test_case):\n",
        "    nums = list(map(int, input().split()))\n",
        "    avg = statistics.mean(nums[1:])            #           2열부터 계산\n",
        "    student_above_avg = 0                      #           [ ] [ ] [ ] [ ] ... [ ]\n",
        "    for student_above_avg in nums[1:]:         #column_no.  0   1   2   3  ...  n\n",
        "        if student_above_avg > avg:            #            n\n",
        "           student_above_avg += 1\n",
        "    rate = student_above_avg/nums[0]*100\n",
        "    print(round(rate,3),'%')"
      ],
      "metadata": {
        "colab": {
          "base_uri": "https://localhost:8080/"
        },
        "id": "TMGoR1SG-__X",
        "outputId": "c62571a6-93ed-4ea9-d9df-7209bbe4fcf3"
      },
      "execution_count": 16,
      "outputs": [
        {
          "output_type": "stream",
          "name": "stdout",
          "text": [
            "2\n",
            "3 46 27 83\n",
            "2800.0 %\n",
            "4 72 83 64\n",
            "1600.0 %\n"
          ]
        }
      ]
    },
    {
      "cell_type": "markdown",
      "source": [
        "**`round(number [, ndigits])`**\n",
        "\n",
        "반환형 : 인자로 들어온 number가 숫자 타입인 경우 정수 혹은 실수를 반환합니다.\n",
        "만약 인자로 들어온 number가 숫자 타입이 아닌 경우에는 None을 반환합니다.\n",
        "\n",
        "첫번째 인자 number 에는 반올림을 하고싶은 숫자를 집어 넣습니다.\n",
        "\n",
        "두번째 인자 ndigits 은 정밀도에 관련된 수 입니다. 이는 자릿수를 뜻한다고 생각해도 될것 같습니다. 예를들어 소수점 2번째 까지 반올림하는것을 원하면 2를 집어 넣는식으로 진행하면 됩니다.\n",
        "만약, 두번째 인자를 생략하면 첫번째 인자 number에 가장 가까운 정수를 반환합니다."
      ],
      "metadata": {
        "id": "uPGaga6sEHwA"
      }
    },
    {
      "cell_type": "code",
      "source": [],
      "metadata": {
        "id": "3s2ORp3TEUgx"
      },
      "execution_count": null,
      "outputs": []
    }
  ]
}